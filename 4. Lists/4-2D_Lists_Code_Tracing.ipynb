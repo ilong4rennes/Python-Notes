{
 "cells": [
  {
   "cell_type": "code",
   "execution_count": 1,
   "id": "b1f9f3f7",
   "metadata": {},
   "outputs": [
    {
     "name": "stdout",
     "output_type": "stream",
     "text": [
      "2\n",
      "5\n",
      "[[2, 3], [6, 5]]\n"
     ]
    }
   ],
   "source": [
    "def ct(L):\n",
    "    rows = len(L)\n",
    "    for\trow in range(rows):\n",
    "        M = L[row]\n",
    "        M.reverse()\n",
    "    for\trow in range(rows):\n",
    "        col = row\n",
    "        print(L[row][col])\n",
    "L = [[3, 2], [5, 6]]\n",
    "ct(L)\n",
    "print(L)"
   ]
  },
  {
   "cell_type": "code",
   "execution_count": 2,
   "id": "7b6d4135",
   "metadata": {},
   "outputs": [
    {
     "name": "stdout",
     "output_type": "stream",
     "text": [
      "[[4], [1]]\n",
      "[[6], [1]]\n",
      "[[2], [3]]\n",
      "[[6], [1]]\n"
     ]
    }
   ],
   "source": [
    "import copy\n",
    "def ct(L):\n",
    "    M = L\n",
    "    L = copy.copy(L)\n",
    "    N = copy.deepcopy(L)\n",
    "    L[0][0] = 4\n",
    "    M[0] = [6]\n",
    "    M[1][0] = 1\n",
    "    N[1][0] = 3\n",
    "    print(L)\n",
    "    print(M)\n",
    "    print(N)\n",
    "L = [[2], [5]]\n",
    "ct(L)\n",
    "print(L)"
   ]
  },
  {
   "cell_type": "code",
   "execution_count": 3,
   "id": "70dd5cd5",
   "metadata": {},
   "outputs": [
    {
     "name": "stdout",
     "output_type": "stream",
     "text": [
      "[[9, 2], [5], [7]]\n",
      "[[5], [2], [8]]\n"
     ]
    }
   ],
   "source": [
    "import copy\n",
    "# Hint: this prints 2 lines\n",
    "def ct(L):\n",
    "    L = copy.copy(L)\n",
    "    M = copy.deepcopy(L)\n",
    "    rowList = L[1]\n",
    "    M[0] = rowList * rowList[0]\n",
    "    rowList = L.pop()\n",
    "    M[0][0] += rowList[0]\n",
    "    rowList[0] += 1\n",
    "    M[1] = L[0]\n",
    "    return M\n",
    "L = [[5], [2], [7]]\n",
    "print(ct(L))\n",
    "print(L)"
   ]
  },
  {
   "cell_type": "code",
   "execution_count": null,
   "id": "90f39aa6",
   "metadata": {},
   "outputs": [],
   "source": [
    "def ct(L):\n",
    "    rows = len(L)\n",
    "    for row in range(rows):\n",
    "        M = L[row]\n",
    "        M.reverse()\n",
    "    for row in range(rows):\n",
    "        col = row\n",
    "        print(L[row][col])\n",
    "L = [[5, 3], [5, 6]]\n",
    "ct(L)\n",
    "print(L)\n",
    "\n",
    "# prints:\n",
    "# 3\n",
    "# 5\n",
    "# [[3, 5], [6, 5]]"
   ]
  },
  {
   "cell_type": "code",
   "execution_count": 5,
   "id": "cde8f4ff",
   "metadata": {},
   "outputs": [
    {
     "name": "stdout",
     "output_type": "stream",
     "text": [
      "[5, 9, 8, 3, 6, 2]\n"
     ]
    }
   ],
   "source": [
    "def ct(L):\n",
    "    result = []\n",
    "    rows, cols = len(L), len(L[0])\n",
    "    for row in range(0, rows, 2):\n",
    "        for col in range(cols - 1, -1, -1):\n",
    "            result.append(L[row][col])\n",
    "    return result\n",
    "L = [[8, 9, 5], [1, 4, 7], [2, 6, 3]]\n",
    "print(ct(L))"
   ]
  },
  {
   "cell_type": "code",
   "execution_count": 6,
   "id": "ada65b9f",
   "metadata": {},
   "outputs": [
    {
     "name": "stdout",
     "output_type": "stream",
     "text": [
      "[5, 4, 1, 3]\n",
      "[[1, 3], [1, 3]]\n",
      "[[1, 3, 2], [1, 4]]\n"
     ]
    }
   ],
   "source": [
    "import copy\n",
    "def ct(L):\n",
    "    A = copy.deepcopy(L)\n",
    "    B = [A[0], L[1]]\n",
    "    B[1][0] = 1\n",
    "    A[0].pop()\n",
    "    A = A[1] + A[0]\n",
    "    B[1] = sorted(B[0])\n",
    "    print(A)\n",
    "    print(B)\n",
    "L = [[1, 3, 2], [5, 4]]\n",
    "ct(L)\n",
    "print(L)"
   ]
  },
  {
   "cell_type": "code",
   "execution_count": 8,
   "id": "3e9b1b89",
   "metadata": {},
   "outputs": [
    {
     "name": "stdout",
     "output_type": "stream",
     "text": [
      "[[15], [3, 4]]\n",
      "[[4], [15]]\n",
      "[[15], [3]]\n"
     ]
    }
   ],
   "source": [
    "import copy\n",
    "# Hint: this prints 3 lines\n",
    "def ct(A):\n",
    "    L, M, N = A, copy.copy(A), copy.deepcopy(A)\n",
    "    L[0][0] += 4\n",
    "    # Hint: L += M is mutating but L = L + M is non-mutating\n",
    "    M[1] += [3]\n",
    "    M[1] = M[1] + [4]\n",
    "    N[1] = L[0]\n",
    "    N[1][0] = N[1][0] + 7\n",
    "    print(M)\n",
    "    return N\n",
    "L =\t[[4], []]\n",
    "print(ct(L))\n",
    "print(L)"
   ]
  },
  {
   "cell_type": "code",
   "execution_count": 9,
   "id": "4176af08",
   "metadata": {},
   "outputs": [
    {
     "name": "stdout",
     "output_type": "stream",
     "text": [
      "[10, 8, 11, 7]\n",
      "[[11, 1, 4], [10, 3, 2]]\n"
     ]
    }
   ],
   "source": [
    "def ct(M):\n",
    "    rows, cols = len(M), len(M[0])\n",
    "    result = []\n",
    "    for row in range(rows):\n",
    "        for col in range(1, cols):\n",
    "            M[row][0] += M[row][col]\n",
    "            result = [M[row][0]] + result\n",
    "    return result\n",
    "L = [[6, 1, 4], [5, 3, 2]]\n",
    "print(ct(L))\n",
    "print(L)"
   ]
  },
  {
   "cell_type": "code",
   "execution_count": 10,
   "id": "e9d79c7f",
   "metadata": {},
   "outputs": [
    {
     "name": "stdout",
     "output_type": "stream",
     "text": [
      "([[5], [8], [8]], [[8], [6, 7], [8]])\n",
      "[[6, 3], [6, 3], [8]]\n"
     ]
    }
   ],
   "source": [
    "def ct1(L):\n",
    "    M = copy.copy(L)\n",
    "    N = copy.deepcopy(L)\n",
    "    L[0] = L[1]\n",
    "    M[1] = M[2]\n",
    "    L[1][1] = 3\n",
    "    N[0] = L[2]\n",
    "    return (M, N)\n",
    "L = [[5],[6,7],[8]]\n",
    "print(ct1(L))\n",
    "print(L) # don't miss this!"
   ]
  },
  {
   "cell_type": "code",
   "execution_count": 12,
   "id": "287a9172",
   "metadata": {},
   "outputs": [
    {
     "name": "stdout",
     "output_type": "stream",
     "text": [
      "[[2], [3], [5, 6], [1, 4]]\n"
     ]
    }
   ],
   "source": [
    "def ct2(L):\n",
    "    rows, cols = len(L), len(L[0])\n",
    "    M = [ ]\n",
    "    for i in range(min(rows, cols)):\n",
    "        M.append(L[i].pop(i))\n",
    "    L.append(M)\n",
    "L = [[1,2],[3,4],[5,6]]\n",
    "ct2(L)\n",
    "print(L)"
   ]
  },
  {
   "cell_type": "code",
   "execution_count": 13,
   "id": "35b701be",
   "metadata": {},
   "outputs": [
    {
     "name": "stdout",
     "output_type": "stream",
     "text": [
      "46 16 26 43\n",
      "26\n"
     ]
    }
   ],
   "source": [
    "import copy\n",
    "def f(a):\n",
    "    return 10*a[0][0]+a[1][0]\n",
    "\n",
    "def ct1(a):\n",
    "    b = copy.copy(a)\n",
    "    c = copy.deepcopy(a)\n",
    "    d = a\n",
    "    e = a[0:len(a)]\n",
    "    c[0][0] = 1\n",
    "    d[0] = [2]\n",
    "    e[1] = [3]\n",
    "    b[0][0] = 4\n",
    "    print(f(b),f(c),f(d),f(e)) #f is defined above\n",
    "\n",
    "a= [[5],[6]]\n",
    "ct1(a)\n",
    "print(f(a))# don't miss this\n"
   ]
  },
  {
   "cell_type": "code",
   "execution_count": 14,
   "id": "905951ef",
   "metadata": {},
   "outputs": [
    {
     "name": "stdout",
     "output_type": "stream",
     "text": [
      "[[2, 2], [1], [3]]\n",
      "[[4], [2]]\n"
     ]
    }
   ],
   "source": [
    "#prints 2 lists containing lists\n",
    "import copy\n",
    "def ct1(L):\n",
    "    a = L\n",
    "    b = copy.copy(L)\n",
    "    c = copy.deepcopy(L)\n",
    "    b[0] = a[1] * a[1][0]\n",
    "    a[0][0] += a.pop()[0]\n",
    "    b[1] = c[0]\n",
    "    return b\n",
    "# Be careful to get the brackets and commas right!\n",
    "L = [[1],[2],[3]]\n",
    "print(ct1(L))\n",
    "print(L)"
   ]
  },
  {
   "cell_type": "code",
   "execution_count": 15,
   "id": "b50ba007",
   "metadata": {},
   "outputs": [
    {
     "name": "stdout",
     "output_type": "stream",
     "text": [
      "[[1, 0], 1, [2, 0], 1, [3, 0, 2]]\n"
     ]
    }
   ],
   "source": [
    "# Prints 1 list which may contain anything\n",
    "def ct2():\n",
    "    a = []\n",
    "    for i in range(1,4):\n",
    "        b = [i]\n",
    "        for j in range(i):\n",
    "            if j % 2 == 0:\n",
    "                b.append(j)\n",
    "            else:\n",
    "                a.append(j)\n",
    "        a.append(b)\n",
    "    return a\n",
    "print(ct2())"
   ]
  }
 ],
 "metadata": {
  "kernelspec": {
   "display_name": "Python 3 (ipykernel)",
   "language": "python",
   "name": "python3"
  },
  "language_info": {
   "codemirror_mode": {
    "name": "ipython",
    "version": 3
   },
   "file_extension": ".py",
   "mimetype": "text/x-python",
   "name": "python",
   "nbconvert_exporter": "python",
   "pygments_lexer": "ipython3",
   "version": "3.9.7"
  }
 },
 "nbformat": 4,
 "nbformat_minor": 5
}
