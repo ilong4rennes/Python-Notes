{
 "cells": [
  {
   "cell_type": "code",
   "execution_count": 1,
   "id": "bf1cebb8",
   "metadata": {},
   "outputs": [
    {
     "name": "stdout",
     "output_type": "stream",
     "text": [
      "[1, 4, 6, 40, 10, 60]\n",
      "[36, 16, 36, 6, 6]\n",
      "[4, 1, 6]\n"
     ]
    }
   ],
   "source": [
    "def ct(L):\n",
    "    M = [ v*10 for v in L ]\n",
    "    N1 = [ x**2 for x in L if x > L[0] ]\n",
    "    L = sorted(L)\n",
    "    N2 = [ x**2 for x in L if x > L[0] ]\n",
    "    print(L + M)\n",
    "    return N1 + N2 + [max(L)] * (1 + min(L))\n",
    "L = [4, 1, 6]\n",
    "print(ct(L))\n",
    "print(L)"
   ]
  },
  {
   "cell_type": "code",
   "execution_count": 3,
   "id": "8c25b98c",
   "metadata": {
    "scrolled": true
   },
   "outputs": [
    {
     "name": "stdout",
     "output_type": "stream",
     "text": [
      "[1, 4, 6, 40, 10, 60]\n",
      "[36, 16, 36, 6, 6]\n",
      "[1, 4, 6]\n"
     ]
    }
   ],
   "source": [
    "def ct(L):\n",
    "    M = [ v*10 for v in L ]\n",
    "    N1 = [ x**2 for x in L if x > L[0] ]\n",
    "    L.sort()\n",
    "    N2 = [ x**2 for x in L if x > L[0] ]\n",
    "    print(L + M)\n",
    "    return N1 + N2 + [max(L)] * (1 + min(L))\n",
    "L = [4, 1, 6]\n",
    "print(ct(L))\n",
    "print(L)"
   ]
  },
  {
   "cell_type": "code",
   "execution_count": 2,
   "id": "d1184b29",
   "metadata": {},
   "outputs": [
    {
     "name": "stdout",
     "output_type": "stream",
     "text": [
      "[0, 4, 2, 4]\n"
     ]
    }
   ],
   "source": [
    "def ct(L):\n",
    "    M = list(range(len(L)))\n",
    "    for i in range(0, len(L), 2):\n",
    "        j = L[i]\n",
    "        v = L[i+1]\n",
    "        M[-j] += v\n",
    "    return M\n",
    "print(ct([1, 1, 3, 3]))"
   ]
  },
  {
   "cell_type": "code",
   "execution_count": 4,
   "id": "e2a1d053",
   "metadata": {},
   "outputs": [
    {
     "name": "stdout",
     "output_type": "stream",
     "text": [
      "[5, 9, 4]\n",
      "None\n"
     ]
    }
   ],
   "source": [
    "def ct(L):\n",
    "    M = [ ]\n",
    "    while sum(L) > sum(M):\n",
    "        M.extend(L[:2])\n",
    "    v = M.pop(0)\n",
    "    v += M.pop()\n",
    "    M.insert(1, v)\n",
    "    print(M)\n",
    "print(ct(list(range(4, 7))))"
   ]
  },
  {
   "cell_type": "code",
   "execution_count": 5,
   "id": "3072a2b3",
   "metadata": {},
   "outputs": [
    {
     "name": "stdout",
     "output_type": "stream",
     "text": [
      "None\n",
      "[2, -5, -4]\n",
      "[2, -3]\n",
      "[2, -5, -4]\n"
     ]
    }
   ],
   "source": [
    "import copy\n",
    "def ct(L):\n",
    "    M = L\n",
    "    N = copy.copy(L)\n",
    "    x = L.append(-4)\n",
    "    print(x)\n",
    "    M[1] = -5\n",
    "    N[1] = -3\n",
    "    print(M)\n",
    "    return N\n",
    "L = [2, 6]\n",
    "print(ct(L))\n",
    "print(L)"
   ]
  },
  {
   "cell_type": "code",
   "execution_count": 6,
   "id": "916670ee",
   "metadata": {},
   "outputs": [
    {
     "name": "stdout",
     "output_type": "stream",
     "text": [
      "[5, 1, 8]\n",
      "[5, 9, 18, 9, 18]\n",
      "[-5, -1, 8, 8]\n"
     ]
    }
   ],
   "source": [
    "def ct(L):\n",
    "    M = [ abs(v) for v in L ]\n",
    "    N1 = [ L[i]+10 for i in range(len(L)) ]\n",
    "    L.append(L[2])\n",
    "    N2 = [ L[i]+10 for i in range(1, len(L)) if L[i] > L[i-1] ]\n",
    "    print(M)\n",
    "    return N1 + N2\n",
    "L = [-5, -1, 8]\n",
    "print(ct(L))\n",
    "print(L)"
   ]
  },
  {
   "cell_type": "code",
   "execution_count": 7,
   "id": "2c7ce47b",
   "metadata": {},
   "outputs": [
    {
     "name": "stdout",
     "output_type": "stream",
     "text": [
      "[0, 5, 4, 4]\n",
      "[-5, -3, -2, 6]\n"
     ]
    }
   ],
   "source": [
    "def ct(L):\n",
    "    M = list(range(len(L)))\n",
    "    for i in range(1, len(M)):\n",
    "        L[i] += M[i]\n",
    "        M[-i] += M[i]\n",
    "    return M\n",
    "L = [-5, -4, -4, 2]\n",
    "print(ct(L))\n",
    "print(L)"
   ]
  },
  {
   "cell_type": "code",
   "execution_count": 8,
   "id": "7dca29e4",
   "metadata": {},
   "outputs": [
    {
     "name": "stdout",
     "output_type": "stream",
     "text": [
      "[3, 2, 2, 1, 2]\n",
      "None\n",
      "[2, 3, 4, 1]\n"
     ]
    }
   ],
   "source": [
    "def ct(L):\n",
    "    M = [ 1, 2 ]\n",
    "    while len(M) < max(L):\n",
    "        N = M[:2]\n",
    "        M.extend(N)\n",
    "        M[0] *= 2\n",
    "    L.extend([1, 2])\n",
    "    v = L.pop(0)\n",
    "    v += L.pop()\n",
    "    M.insert(0, v)\n",
    "    print(M)\n",
    "L = list(range(1, 5))\n",
    "print(ct(L))\n",
    "print(L)\n"
   ]
  },
  {
   "cell_type": "code",
   "execution_count": 9,
   "id": "440b63be",
   "metadata": {},
   "outputs": [
    {
     "name": "stdout",
     "output_type": "stream",
     "text": [
      "None\n",
      "[2, 6, -3, -2]\n",
      "[2, 6, 2, -5]\n",
      "[6, -3]\n"
     ]
    }
   ],
   "source": [
    "import copy\n",
    "def ct(L):\n",
    "    M = L\n",
    "    N = copy.copy(L)\n",
    "    M.append(-3)\n",
    "    M = M + [-2]\n",
    "    v = L.pop(0)\n",
    "    print(N.extend([v, -5]))\n",
    "    print(M)\n",
    "    return N\n",
    "L = [2, 6]\n",
    "print(ct(L))\n",
    "print(L)"
   ]
  },
  {
   "cell_type": "code",
   "execution_count": 10,
   "id": "9bc53353",
   "metadata": {},
   "outputs": [
    {
     "name": "stdout",
     "output_type": "stream",
     "text": [
      "[4, 5, 5, 5, 5]\n",
      "[5, 5]\n",
      "[4, 5, 5]\n"
     ]
    }
   ],
   "source": [
    "import copy\n",
    "def ct(L):\n",
    "    M = L\n",
    "    N = [M.pop(1) * 5] * 2\n",
    "    L += N\n",
    "    M = M + N\n",
    "    print(M)\n",
    "    return N\n",
    "L = [4, 1]\n",
    "print(ct(L))\n",
    "print(L)\n"
   ]
  },
  {
   "cell_type": "code",
   "execution_count": 11,
   "id": "667df016",
   "metadata": {},
   "outputs": [
    {
     "name": "stdout",
     "output_type": "stream",
     "text": [
      "(-2, -3, -2, -1, -1)\n"
     ]
    }
   ],
   "source": [
    "def ct(t):\n",
    "    L = [ ]\n",
    "    for x,y in t:\n",
    "        L.append(x+y)\n",
    "    return tuple(L) + t[2]\n",
    "t = ((-5, 3), (1, -4), (-1, -1))\n",
    "print(ct(t))"
   ]
  },
  {
   "cell_type": "code",
   "execution_count": 12,
   "id": "431c3257",
   "metadata": {},
   "outputs": [
    {
     "name": "stdout",
     "output_type": "stream",
     "text": [
      "(-7, 4, -1, -7)\n"
     ]
    }
   ],
   "source": [
    "def ct(L):\n",
    "    t1 = (-3, -4) * len(L)\n",
    "    t2 = tuple()\n",
    "    for i in range(len(L)):\n",
    "        if L[i] == t1[i]:\n",
    "            t2 += (i,)\n",
    "        else:\n",
    "            t2 += (sum(L[i]),)\n",
    "    return t2\n",
    "\n",
    "print(ct([(-3, -4), (1, 3), (3, -4), (-3, -4)]))"
   ]
  },
  {
   "cell_type": "code",
   "execution_count": 13,
   "id": "7cd04d12",
   "metadata": {},
   "outputs": [
    {
     "name": "stdout",
     "output_type": "stream",
     "text": [
      "((1, 4), (4, 3), (3, -2), (-2, 4))\n"
     ]
    }
   ],
   "source": [
    "def ct(L):\n",
    "    M = [ (L[i-1], L[i]) for i in range(1, len(L)) ]\n",
    "    t = tuple(M)\n",
    "    t += ((min(L), max(L)),)\n",
    "    return t\n",
    "print(ct([1, 4, 3, -2]))"
   ]
  },
  {
   "cell_type": "code",
   "execution_count": 14,
   "id": "c28656ce",
   "metadata": {},
   "outputs": [
    {
     "name": "stdout",
     "output_type": "stream",
     "text": [
      "[4, 1] [4, 5, 2] [4, 1, 3]\n"
     ]
    }
   ],
   "source": [
    "def ct1(L, M):\n",
    "    N = L\n",
    "    L += [1]\n",
    "    M += [2]\n",
    "    N = N + [3]\n",
    "    return L, M, N\n",
    "L = [4]\n",
    "L, M, N = ct1(L, L+[5])\n",
    "print(L, M, N)"
   ]
  },
  {
   "cell_type": "code",
   "execution_count": 15,
   "id": "b89627d6",
   "metadata": {},
   "outputs": [
    {
     "name": "stdout",
     "output_type": "stream",
     "text": [
      "[2, 2, 3, 10, 2] (2, 4, 0) False\n"
     ]
    }
   ],
   "source": [
    "def ct2(L):\n",
    "    M = sorted(L)\n",
    "    N = list(reversed(M))\n",
    "    n = L.pop(0) * 10\n",
    "    L.remove(1)\n",
    "    L.sort()\n",
    "    L.append(n)\n",
    "    L.extend(L[:1])\n",
    "    return (L.index(3), M.index(3), N.index(3))\n",
    "L = [1,2,3,2,1]\n",
    "M = ct2(L)\n",
    "print(L, M, type(M) == list)"
   ]
  },
  {
   "cell_type": "code",
   "execution_count": 16,
   "id": "071e9033",
   "metadata": {},
   "outputs": [
    {
     "name": "stdout",
     "output_type": "stream",
     "text": [
      "True-5-[4, 4, 4, 4]\n"
     ]
    }
   ],
   "source": [
    "def ct3(s):\n",
    "    L = [int(v) for v in s.split(',')]\n",
    "    M = [\n",
    "     L > L[:-1],\n",
    "     sum(L) - max(L),\n",
    "     L[-1:]*L[-1]\n",
    "     ]\n",
    "    N = [str(v) for v in M]\n",
    "    return '-'.join(N)\n",
    "print(ct3('1,23,4'))"
   ]
  },
  {
   "cell_type": "code",
   "execution_count": 17,
   "id": "ebcf0f88",
   "metadata": {},
   "outputs": [
    {
     "name": "stdout",
     "output_type": "stream",
     "text": [
      "[3, 2] [3, 4, 1] [3, 2, 0]\n"
     ]
    }
   ],
   "source": [
    "def ct1(L, M):\n",
    "    N = L\n",
    "    L += [2]\n",
    "    M += [1]\n",
    "    N = N + [0]\n",
    "    return L, M, N\n",
    "L = [3]\n",
    "L, M, N = ct1(L, L+[4])\n",
    "print(L, M, N)"
   ]
  },
  {
   "cell_type": "code",
   "execution_count": 18,
   "id": "607f8d1c",
   "metadata": {},
   "outputs": [
    {
     "name": "stdout",
     "output_type": "stream",
     "text": [
      "[1, 2, 2, 30, 1] (0, 0, 4) True\n"
     ]
    }
   ],
   "source": [
    "def ct2(L):\n",
    "    M = sorted(L)\n",
    "    N = list(reversed(M))\n",
    "    n = L.pop(0) * 10\n",
    "    L.remove(3)\n",
    "    L.sort()\n",
    "    L.append(n)\n",
    "    L.extend(L[:1])\n",
    "    return (L.index(1), M.index(1), N.index(1))\n",
    "L = [3,2,1,2,3]\n",
    "M = ct2(L)\n",
    "print(L, M, type(M) == tuple)"
   ]
  },
  {
   "cell_type": "code",
   "execution_count": 19,
   "id": "5b6b64c4",
   "metadata": {},
   "outputs": [
    {
     "name": "stdout",
     "output_type": "stream",
     "text": [
      "True-[3, 3, 3]-16\n"
     ]
    }
   ],
   "source": [
    "def ct3(s):\n",
    "    L = [int(v) for v in s.split(',')]\n",
    "    M = [\n",
    "     L > L[:-1],\n",
    "     L[-1:]*L[-1],\n",
    "     sum(L) - min(L)\n",
    "     ]\n",
    "    N = [str(v) for v in M]\n",
    "    return '-'.join(N)\n",
    "print(ct3('12,4,3'))"
   ]
  },
  {
   "cell_type": "code",
   "execution_count": null,
   "id": "0104b2c5",
   "metadata": {},
   "outputs": [],
   "source": []
  }
 ],
 "metadata": {
  "kernelspec": {
   "display_name": "Python 3 (ipykernel)",
   "language": "python",
   "name": "python3"
  },
  "language_info": {
   "codemirror_mode": {
    "name": "ipython",
    "version": 3
   },
   "file_extension": ".py",
   "mimetype": "text/x-python",
   "name": "python",
   "nbconvert_exporter": "python",
   "pygments_lexer": "ipython3",
   "version": "3.9.7"
  }
 },
 "nbformat": 4,
 "nbformat_minor": 5
}
