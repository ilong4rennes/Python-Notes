{
 "cells": [
  {
   "cell_type": "markdown",
   "id": "e8921aed",
   "metadata": {},
   "source": [
    "## 5.2. Animations With 1d Lists"
   ]
  },
  {
   "cell_type": "markdown",
   "id": "396ece53",
   "metadata": {},
   "source": [
    "### 5.2.1. Drawing Multiple Rectangles"
   ]
  },
  {
   "cell_type": "code",
   "execution_count": 2,
   "id": "f48ca6f9",
   "metadata": {},
   "outputs": [],
   "source": [
    "def onAppStart(app):\n",
    "    app.rectCenters = [ ]\n",
    "\n",
    "def onMousePress(app, mouseX, mouseY):\n",
    "    newCenterPoint = (mouseX, mouseY)\n",
    "    app.rectCenters.append(newCenterPoint)\n",
    "\n",
    "def redrawAll(app):\n",
    "    drawLabel('Click to draw rectangles', 200, 20, size=16)\n",
    "    rectWidth = rectHeight = 50\n",
    "    for (cx, cy) in app.rectCenters:\n",
    "        drawRect(cx - rectWidth/2, cy - rectHeight/2,\n",
    "               rectWidth, rectHeight, fill='cyan')\n"
   ]
  },
  {
   "cell_type": "markdown",
   "id": "ae3acfa3",
   "metadata": {},
   "source": [
    "### 5.2.2 Key Holds"
   ]
  },
  {
   "cell_type": "code",
   "execution_count": 3,
   "id": "ed7ee86a",
   "metadata": {},
   "outputs": [],
   "source": [
    "def onKeyHold(app, keys):\n",
    "    if 'up' in keys:\n",
    "        pass"
   ]
  },
  {
   "cell_type": "markdown",
   "id": "149ae364",
   "metadata": {},
   "source": [
    "### 5.2.3 Polygons"
   ]
  },
  {
   "cell_type": "code",
   "execution_count": 4,
   "id": "4247427d",
   "metadata": {},
   "outputs": [],
   "source": [
    "def redrawAll(app):\n",
    "    drawPolygon(100, 100, 50, 200, 300, 300, 250, 50, \n",
    "                fill='pink', border='black', borderWidth=8, \n",
    "                opacity=20)"
   ]
  },
  {
   "cell_type": "markdown",
   "id": "8f9fbecc",
   "metadata": {},
   "source": [
    "The order of the points matters! We can go either in clockwise or in counter-clockwise order, but we must go in order."
   ]
  },
  {
   "cell_type": "code",
   "execution_count": 5,
   "id": "d52eaaf6",
   "metadata": {},
   "outputs": [],
   "source": [
    "def redrawAll(app):\n",
    "    # store the points in a list:\n",
    "    points = [100, 100, 50, 200, 300, 300, 250, 50]\n",
    "\n",
    "    # use *points to unpack the values\n",
    "    # and draw the polygon using this list:\n",
    "    drawPolygon(*points, fill='cyan', border='black')"
   ]
  },
  {
   "cell_type": "markdown",
   "id": "28d3d8e2",
   "metadata": {},
   "source": [
    "## 5.3. Animations With 2d Lists"
   ]
  },
  {
   "cell_type": "markdown",
   "id": "d3472b97",
   "metadata": {},
   "source": [
    "### 5.3.2 Drawing a 2d Board"
   ]
  },
  {
   "cell_type": "code",
   "execution_count": 6,
   "id": "5389f5e4",
   "metadata": {},
   "outputs": [],
   "source": [
    "def onAppStart(app):\n",
    "    app.rows = 5 # The number of rows in our board.\n",
    "    app.cols = 5 # The number of columns (or \"cols\") in our board.\n",
    "    app.boardLeft = 50 # The x value of the left edge of the board on the canvas.\n",
    "    app.boardTop = 75 # The y value of the top edge of the board on the canvas.\n",
    "    app.boardWidth = 300 # The width of the board in pixels.\n",
    "    app.boardHeight = 300 # The height of the board in pixels.\n",
    "    app.cellBorderWidth = 2 # The width of each cell's border, typically 1 or 2.\n",
    "\n",
    "\n",
    "def redrawAll(app):\n",
    "    drawLabel('Our second 2d board (this works!)', 200, 30, size=16)\n",
    "    drawBoard(app)\n",
    "    drawBoardBorder(app)\n",
    "\n",
    "def drawBoard(app):\n",
    "    for row in range(app.rows):\n",
    "        for col in range(app.cols):\n",
    "            drawCell(app, row, col)\n",
    "\n",
    "def drawBoardBorder(app):\n",
    "  # draw the board outline (with double-thickness):\n",
    "  drawRect(app.boardLeft, app.boardTop, app.boardWidth, app.boardHeight,\n",
    "           fill=None, border='black',\n",
    "           borderWidth=2*app.cellBorderWidth)\n",
    "\n",
    "def drawCell(app, row, col):\n",
    "    cellLeft, cellTop = getCellLeftTop(app, row, col)\n",
    "    cellWidth, cellHeight = getCellSize(app)\n",
    "    drawRect(cellLeft, cellTop, cellWidth, cellHeight,\n",
    "             fill=None, border='black',\n",
    "             borderWidth=app.cellBorderWidth)\n",
    "\n",
    "def getCellLeftTop(app, row, col):\n",
    "    cellWidth, cellHeight = getCellSize(app)\n",
    "    cellLeft = app.boardLeft + col * cellWidth\n",
    "    cellTop = app.boardTop + row * cellHeight\n",
    "    return (cellLeft, cellTop)\n",
    "\n",
    "def getCellSize(app):\n",
    "    cellWidth = app.boardWidth / app.cols\n",
    "    cellHeight = app.boardHeight / app.rows\n",
    "    return (cellWidth, cellHeight)\n",
    "\n",
    "def main():\n",
    "    runApp()\n",
    "\n",
    "# main()"
   ]
  },
  {
   "cell_type": "markdown",
   "id": "5fd08be8",
   "metadata": {},
   "source": [
    "### 5.3.3. Cell Selection"
   ]
  },
  {
   "cell_type": "code",
   "execution_count": 7,
   "id": "2619b1d4",
   "metadata": {},
   "outputs": [],
   "source": [
    "import math\n",
    "\n",
    "def onAppStart(app):\n",
    "    app.rows = 5\n",
    "    app.cols = 5\n",
    "    app.boardLeft = 50\n",
    "    app.boardTop = 95\n",
    "    app.boardWidth = 300\n",
    "    app.boardHeight = 300\n",
    "    app.cellBorderWidth = 2\n",
    "    app.selection = None\n",
    "\n",
    "def onMousePress(app, mouseX, mouseY):\n",
    "    selectedCell = getCell(app, mouseX, mouseY)\n",
    "    if selectedCell != None:\n",
    "        if selectedCell == app.selection:\n",
    "            app.selection = None\n",
    "        else:\n",
    "            app.selection = selectedCell\n",
    "\n",
    "# def onKeyPress(app, key):\n",
    "#     if key == 'left':    moveSelection(app, 0, -1)\n",
    "#     elif key == 'right': moveSelection(app, 0, +1)\n",
    "#     elif key == 'up':    moveSelection(app ,-1, 0)\n",
    "#     elif key == 'down':  moveSelection(app, +1, 0)\n",
    "#     elif key == 'c':     app.selection = None\n",
    "#     elif key == 'r':     app.selection = (0, 0)\n",
    "\n",
    "# def moveSelection(app, drow, dcol):\n",
    "#     if app.selection != None:\n",
    "#         selectedRow, selectedCol = app.selection\n",
    "#         newSelectedRow = (selectedRow + drow) % app.rows\n",
    "#         newSelectedCol = (selectedCol + dcol) % app.cols\n",
    "#         app.selection = (newSelectedRow, newSelectedCol)\n",
    "            \n",
    "def redrawAll(app):\n",
    "    drawLabel('2d Board with Selection', 200, 30, size=16)\n",
    "    drawLabel('Click on an empty cell to select it', 200, 50, size=14)\n",
    "    drawLabel('Click on the selected cell to clear it', 200, 70, size=14)\n",
    "    drawBoard(app)\n",
    "    drawBoardBorder(app)\n",
    "\n",
    "def drawBoard(app):\n",
    "    for row in range(app.rows):\n",
    "        for col in range(app.cols):\n",
    "            drawCell(app, row, col)\n",
    "\n",
    "def drawBoardBorder(app):\n",
    "  # draw the board outline (with double-thickness):\n",
    "  drawRect(app.boardLeft, app.boardTop, app.boardWidth, app.boardHeight,\n",
    "           fill=None, border='black',\n",
    "           borderWidth=2*app.cellBorderWidth)\n",
    "\n",
    "def drawCell(app, row, col):\n",
    "    cellLeft, cellTop = getCellLeftTop(app, row, col)\n",
    "    cellWidth, cellHeight = getCellSize(app)\n",
    "    color = 'cyan' if (row, col) == app.selection else None\n",
    "    drawRect(cellLeft, cellTop, cellWidth, cellHeight,\n",
    "             fill=color, border='black',\n",
    "             borderWidth=app.cellBorderWidth)\n",
    "\n",
    "def getCell(app, x, y):\n",
    "    dx = x - app.boardLeft\n",
    "    dy = y - app.boardTop\n",
    "    cellWidth, cellHeight = getCellSize(app)\n",
    "    row = math.floor(dy / cellHeight)\n",
    "    col = math.floor(dx / cellWidth)\n",
    "    if (0 <= row < app.rows) and (0 <= col < app.cols):\n",
    "        return (row, col)\n",
    "    else:\n",
    "        return None\n",
    "\n",
    "def getCellLeftTop(app, row, col):\n",
    "    cellWidth, cellHeight = getCellSize(app)\n",
    "    cellLeft = app.boardLeft + col * cellWidth\n",
    "    cellTop = app.boardTop + row * cellHeight\n",
    "    return (cellLeft, cellTop)\n",
    "\n",
    "def getCellSize(app):\n",
    "    cellWidth = app.boardWidth / app.cols\n",
    "    cellHeight = app.boardHeight / app.rows\n",
    "    return (cellWidth, cellHeight)\n",
    "\n",
    "def main():\n",
    "    runApp()\n",
    "\n",
    "# main()"
   ]
  },
  {
   "cell_type": "code",
   "execution_count": null,
   "id": "61ded701",
   "metadata": {},
   "outputs": [],
   "source": []
  }
 ],
 "metadata": {
  "kernelspec": {
   "display_name": "Python 3 (ipykernel)",
   "language": "python",
   "name": "python3"
  },
  "language_info": {
   "codemirror_mode": {
    "name": "ipython",
    "version": 3
   },
   "file_extension": ".py",
   "mimetype": "text/x-python",
   "name": "python",
   "nbconvert_exporter": "python",
   "pygments_lexer": "ipython3",
   "version": "3.9.7"
  }
 },
 "nbformat": 4,
 "nbformat_minor": 5
}
