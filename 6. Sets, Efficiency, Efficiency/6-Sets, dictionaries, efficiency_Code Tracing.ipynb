{
 "cells": [
  {
   "cell_type": "markdown",
   "id": "023d372b",
   "metadata": {},
   "source": [
    "## 6.2 Sets"
   ]
  },
  {
   "cell_type": "code",
   "execution_count": 1,
   "id": "0d843e8c",
   "metadata": {},
   "outputs": [
    {
     "name": "stdout",
     "output_type": "stream",
     "text": [
      "{2, 3, 4}\n",
      "{1, 2, 3, 4, 5, 6, 7, 9, 10}\n",
      "{1, 6, 9}\n"
     ]
    }
   ],
   "source": [
    "def ct(L):\n",
    "    M = [v+1 for v in L]\n",
    "    s = set(L)\n",
    "    t = set(M)\n",
    "    print(s & t)\n",
    "    print(s | t)\n",
    "    print(s - t)\n",
    "\n",
    "ct([4, 1, 2, 9, 6, 3, 9])"
   ]
  },
  {
   "cell_type": "code",
   "execution_count": 2,
   "id": "16b82739",
   "metadata": {},
   "outputs": [
    {
     "name": "stdout",
     "output_type": "stream",
     "text": [
      "{0, 1, 3, 4}\n"
     ]
    }
   ],
   "source": [
    "def ct(n):\n",
    "    s = set()\n",
    "    for i in range(n):\n",
    "        s.add(i**2 % n)\n",
    "    return s\n",
    "\n",
    "print(ct(6))"
   ]
  },
  {
   "cell_type": "code",
   "execution_count": 3,
   "id": "7c8a9d9d",
   "metadata": {},
   "outputs": [
    {
     "name": "stdout",
     "output_type": "stream",
     "text": [
      "{'z', 'n', 'd', 'c', 'l', 'b'}\n"
     ]
    }
   ],
   "source": [
    "def ct(L):\n",
    "    s = set()\n",
    "    for t in L:\n",
    "        for c in t.lower():\n",
    "            if c.isalpha():\n",
    "                s.add(c)\n",
    "    return s\n",
    "\n",
    "print(ct(['NddN', 'Nl', 'bCbZ8']))"
   ]
  },
  {
   "cell_type": "code",
   "execution_count": 4,
   "id": "7666df28",
   "metadata": {},
   "outputs": [
    {
     "name": "stdout",
     "output_type": "stream",
     "text": [
      "1\n",
      "5\n",
      "[1, 5, 6, 8]\n"
     ]
    }
   ],
   "source": [
    "def ct(L):\n",
    "    while len(L) > len(set(L)):\n",
    "        print(L.pop(0))\n",
    "\n",
    "L = [1, 5, 1, 5, 6, 8]\n",
    "ct(L)\n",
    "print(L) # don't miss this line!"
   ]
  },
  {
   "cell_type": "markdown",
   "id": "60a1fb68",
   "metadata": {},
   "source": [
    "## 6.3 Dictionaries"
   ]
  },
  {
   "cell_type": "code",
   "execution_count": 5,
   "id": "bec0ce46",
   "metadata": {},
   "outputs": [
    {
     "name": "stdout",
     "output_type": "stream",
     "text": [
      "[1, 5, 6, 7]\n"
     ]
    }
   ],
   "source": [
    "def ct(d):\n",
    "    result = []\n",
    "    for k in d:\n",
    "        if d[k] < 5:\n",
    "            d[k] += 5\n",
    "        result.append(k)\n",
    "        result.append(d[k])\n",
    "    return sorted(result)\n",
    "\n",
    "print(ct({1: 1, 7: 5}))\n"
   ]
  },
  {
   "cell_type": "code",
   "execution_count": 6,
   "id": "48148365",
   "metadata": {},
   "outputs": [
    {
     "name": "stdout",
     "output_type": "stream",
     "text": [
      "{2: 1, 1: 1, 0: 1, -1: 2, -2: 2}\n"
     ]
    }
   ],
   "source": [
    "def ct(L):\n",
    "    d = dict()\n",
    "    for v in L:\n",
    "        d[v] = d.get(abs(v), 0) + 1\n",
    "    return d\n",
    "\n",
    "print(ct([2, 1, 0, -1, -2]))\n"
   ]
  },
  {
   "cell_type": "code",
   "execution_count": 10,
   "id": "c2053358",
   "metadata": {},
   "outputs": [
    {
     "name": "stdout",
     "output_type": "stream",
     "text": [
      "{'B': 'bbbB', 'S': 's', 'M': 'm', 'J': 'j'}\n"
     ]
    }
   ],
   "source": [
    "def ct(s):\n",
    "    d = dict()\n",
    "    for c in s:\n",
    "        d[c.upper()] = d.get(c.upper(), '') + c\n",
    "    return d\n",
    "\n",
    "print(ct('bbbsmjB'))"
   ]
  },
  {
   "cell_type": "code",
   "execution_count": 8,
   "id": "5ea71f5b",
   "metadata": {},
   "outputs": [
    {
     "name": "stdout",
     "output_type": "stream",
     "text": [
      "{10, 5}\n"
     ]
    }
   ],
   "source": [
    "def ct(d):\n",
    "    seen = set()\n",
    "    result = set()\n",
    "    for k in d:\n",
    "        if k in seen:\n",
    "            result.add(k)\n",
    "        elif d[k] in seen:\n",
    "            result.add(d[k])\n",
    "        seen.add(k)\n",
    "        seen.add(d[k])\n",
    "    return result\n",
    "\n",
    "print(ct({1: 5, 5: 10, 7: 10}))"
   ]
  },
  {
   "cell_type": "code",
   "execution_count": 9,
   "id": "efee104c",
   "metadata": {},
   "outputs": [
    {
     "name": "stdout",
     "output_type": "stream",
     "text": [
      "{7: 10}\n",
      "[3, 10, 1]\n"
     ]
    }
   ],
   "source": [
    "def ct(d, key):\n",
    "    result = []\n",
    "    while (key in d):\n",
    "        nextKey\t= d[key]\n",
    "        result.append(d.pop(key))\n",
    "        key = nextKey\n",
    "    print(d)\n",
    "    return result\n",
    "\n",
    "print(ct({1: 3, 3: 10, 7: 10, 10: 1}, 1))"
   ]
  }
 ],
 "metadata": {
  "kernelspec": {
   "display_name": "Python 3 (ipykernel)",
   "language": "python",
   "name": "python3"
  },
  "language_info": {
   "codemirror_mode": {
    "name": "ipython",
    "version": 3
   },
   "file_extension": ".py",
   "mimetype": "text/x-python",
   "name": "python",
   "nbconvert_exporter": "python",
   "pygments_lexer": "ipython3",
   "version": "3.9.7"
  }
 },
 "nbformat": 4,
 "nbformat_minor": 5
}
