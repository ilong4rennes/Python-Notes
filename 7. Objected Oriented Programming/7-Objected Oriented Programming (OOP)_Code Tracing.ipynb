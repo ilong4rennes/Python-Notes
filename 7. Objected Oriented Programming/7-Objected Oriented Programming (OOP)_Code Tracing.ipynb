{
 "cells": [
  {
   "cell_type": "code",
   "execution_count": 1,
   "id": "e229aeac",
   "metadata": {},
   "outputs": [
    {
     "name": "stdout",
     "output_type": "stream",
     "text": [
      "R(6)\n",
      "R(11)\n",
      "R(6)\n",
      "False\n",
      "False\n"
     ]
    }
   ],
   "source": [
    "class R:\n",
    "    def __init__(self, x):\n",
    "        self.x = x + 2\n",
    "\n",
    "    def __repr__(self):\n",
    "        return f'R({self.x})'\n",
    "\n",
    "r1 = R(4)\n",
    "print(r1)\n",
    "r2 = R(9)\n",
    "print(r2)\n",
    "r3 = R(4)\n",
    "print(r3)\n",
    "\n",
    "print(r1 == r2)\n",
    "print(r1 == r3)\n"
   ]
  },
  {
   "cell_type": "code",
   "execution_count": 2,
   "id": "88a46fe5",
   "metadata": {},
   "outputs": [
    {
     "name": "stdout",
     "output_type": "stream",
     "text": [
      "False\n",
      "R(70)\n",
      "False\n"
     ]
    }
   ],
   "source": [
    "class R:\n",
    "    def __init__(self, value):\n",
    "        if isinstance(value, R):\n",
    "            self.x = 10 * value.x\n",
    "        else:\n",
    "            self.x = value\n",
    "\n",
    "    def __repr__(self):\n",
    "        return f'R({self.x})'\n",
    "\n",
    "    def __eq__(self, other):\n",
    "        return (isinstance(other, R) and (abs(self.x - other.x) <= 2))\n",
    "\n",
    "r1 = R(1)\n",
    "r2 = R(7)\n",
    "print(r1 == r2)\n",
    "\n",
    "r3 = R(r2)\n",
    "print(r3)\n",
    "print(r1 == r3)\n"
   ]
  },
  {
   "cell_type": "code",
   "execution_count": 3,
   "id": "27766b7f",
   "metadata": {},
   "outputs": [
    {
     "name": "stdout",
     "output_type": "stream",
     "text": [
      "H(g=9,n=0)\n",
      "H(g=11,n=1)\n",
      "2\n"
     ]
    }
   ],
   "source": [
    "class H:\n",
    "    m = 0\n",
    "    def __init__(self, e, f):\n",
    "        self.g = e + f\n",
    "        self.n = H.m\n",
    "        H.m += 1\n",
    "\n",
    "    def __repr__(self):\n",
    "        return f'H(g={self.g},n={self.n})'\n",
    "\n",
    "h1 = H(8, 1)\n",
    "h2 = H(2, 9)\n",
    "print(h1)\n",
    "print(h2)\n",
    "print(H.m)\n"
   ]
  },
  {
   "cell_type": "code",
   "execution_count": 4,
   "id": "cebe4f35",
   "metadata": {},
   "outputs": [
    {
     "name": "stdout",
     "output_type": "stream",
     "text": [
      "A(L=[1, 3, 5])\n",
      "A(L=[3, 5, 1])\n"
     ]
    }
   ],
   "source": [
    "class A:\n",
    "    def __init__(self, L):\n",
    "        self.L = L\n",
    "\n",
    "    def __repr__(self):\n",
    "        return f'A(L={self.L})'\n",
    "\n",
    "    def g(self, other):\n",
    "        M = other.L + self.L\n",
    "        return A(M)\n",
    "\n",
    "a1 = A([3, 5])\n",
    "a2 = A([1])\n",
    "a3 = a1.g(a2)\n",
    "print(a3)\n",
    "a4 = a2.g(a1)\n",
    "print(a4)\n"
   ]
  }
 ],
 "metadata": {
  "kernelspec": {
   "display_name": "Python 3 (ipykernel)",
   "language": "python",
   "name": "python3"
  },
  "language_info": {
   "codemirror_mode": {
    "name": "ipython",
    "version": 3
   },
   "file_extension": ".py",
   "mimetype": "text/x-python",
   "name": "python",
   "nbconvert_exporter": "python",
   "pygments_lexer": "ipython3",
   "version": "3.9.7"
  }
 },
 "nbformat": 4,
 "nbformat_minor": 5
}
