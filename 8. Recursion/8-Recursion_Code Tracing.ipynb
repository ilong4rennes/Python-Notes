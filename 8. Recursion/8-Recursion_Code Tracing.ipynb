{
 "cells": [
  {
   "cell_type": "code",
   "execution_count": 1,
   "id": "d5e7cf4a",
   "metadata": {},
   "outputs": [
    {
     "name": "stdout",
     "output_type": "stream",
     "text": [
      "0\n",
      "1\n",
      "5\n",
      "14\n"
     ]
    }
   ],
   "source": [
    "def f(n):\n",
    "    if n == 0:\n",
    "        return 0\n",
    "    else:\n",
    "        return n**2 + f(n-1)\n",
    "print(f(0))\n",
    "print(f(1))\n",
    "print(f(2))\n",
    "print(f(3))"
   ]
  },
  {
   "cell_type": "code",
   "execution_count": 2,
   "id": "096d3295",
   "metadata": {},
   "outputs": [
    {
     "name": "stdout",
     "output_type": "stream",
     "text": [
      "1\n",
      "14\n",
      "19\n",
      "23\n"
     ]
    }
   ],
   "source": [
    "def g(n):\n",
    "    if n < 10:\n",
    "        return n\n",
    "    else:\n",
    "        return (n%10) + g(n//10)\n",
    "print(g(1))\n",
    "print(g(77))\n",
    "print(g(397))\n",
    "print(g(6908))\n"
   ]
  },
  {
   "cell_type": "code",
   "execution_count": 3,
   "id": "a25dfce3",
   "metadata": {},
   "outputs": [
    {
     "name": "stdout",
     "output_type": "stream",
     "text": [
      "1\n",
      "2\n",
      "3\n",
      "4\n"
     ]
    }
   ],
   "source": [
    "def h(n):\n",
    "    if n < 10:\n",
    "        return 1\n",
    "    else:\n",
    "        return 1 + h(n//10)\n",
    "print(h(5))\n",
    "print(h(66))\n",
    "print(h(555))\n",
    "print(h(3206))\n"
   ]
  },
  {
   "cell_type": "code",
   "execution_count": 4,
   "id": "c5bf05a2",
   "metadata": {},
   "outputs": [
    {
     "name": "stdout",
     "output_type": "stream",
     "text": [
      "1\n",
      "2\n",
      "6\n",
      "30\n",
      "0\n"
     ]
    }
   ],
   "source": [
    "def f(L):\n",
    "    if L == [ ]:\n",
    "        return 1\n",
    "    else:\n",
    "        return L[0] * f(L[1:])\n",
    "print(f([]))\n",
    "print(f([2]))\n",
    "print(f([2,3]))\n",
    "print(f([2,3,5]))\n",
    "print(f([2,3,5,0]))\n"
   ]
  },
  {
   "cell_type": "code",
   "execution_count": 5,
   "id": "54397780",
   "metadata": {},
   "outputs": [
    {
     "name": "stdout",
     "output_type": "stream",
     "text": [
      "9\n",
      "9\n",
      "9\n",
      "28\n"
     ]
    }
   ],
   "source": [
    "def g(L):\n",
    "    if len(L) == 1:\n",
    "        return L[0]\n",
    "    else:\n",
    "        first = L[0]\n",
    "        rest = L[1:]\n",
    "        m = g(rest)\n",
    "        return first if first > m else m\n",
    "print(g([9]))\n",
    "print(g([9,8]))\n",
    "print(g([9,8,3]))\n",
    "print(g([22, 28, 23, 15, 26]))\n"
   ]
  },
  {
   "cell_type": "code",
   "execution_count": 6,
   "id": "0b8ea8dc",
   "metadata": {},
   "outputs": [
    {
     "name": "stdout",
     "output_type": "stream",
     "text": [
      "4\n"
     ]
    }
   ],
   "source": [
    "def f(n, k=1):\n",
    "    if k > n:\n",
    "        return k\n",
    "    else:\n",
    "        return f(n, 2*k)\n",
    "print(f(2))\n"
   ]
  },
  {
   "cell_type": "code",
   "execution_count": 7,
   "id": "6d1816dd",
   "metadata": {},
   "outputs": [
    {
     "name": "stdout",
     "output_type": "stream",
     "text": [
      "[2, 7, 5, 9, 1, 6]\n"
     ]
    }
   ],
   "source": [
    "def f(L):\n",
    "    if len(L) < 2:\n",
    "        return L\n",
    "    else:\n",
    "        i = len(L)//2\n",
    "        return [L[i]] + f(L[:i]) + f(L[i+1:])\n",
    "print(f([5, 7, 9, 2, 6, 1]))"
   ]
  },
  {
   "cell_type": "code",
   "execution_count": 8,
   "id": "62667e00",
   "metadata": {},
   "outputs": [
    {
     "name": "stdout",
     "output_type": "stream",
     "text": [
      "[3, 25, 41]\n"
     ]
    }
   ],
   "source": [
    "def g(L, d=1):\n",
    "    if L == [ ]:\n",
    "        return [ ]\n",
    "    else:\n",
    "        return [L[0]+d] + g(L[1:], d+sum(L))\n",
    "print(g([2, 7, 8]))"
   ]
  },
  {
   "cell_type": "code",
   "execution_count": 9,
   "id": "bb6c0579",
   "metadata": {},
   "outputs": [
    {
     "name": "stdout",
     "output_type": "stream",
     "text": [
      "[1, 7, 1, 8]\n"
     ]
    }
   ],
   "source": [
    "def h1(n):\n",
    "    if n < 10:\n",
    "        return [n]\n",
    "    else:\n",
    "        d = n%10\n",
    "        return h2(n//10) + h2(d**2)\n",
    "\n",
    "def h2(n):\n",
    "    if n < 10:\n",
    "        return [n]\n",
    "    else:\n",
    "        return [n%10] + h1(n//10)\n",
    "\n",
    "print(h1(719))"
   ]
  },
  {
   "cell_type": "code",
   "execution_count": 10,
   "id": "d8847622",
   "metadata": {},
   "outputs": [
    {
     "name": "stdout",
     "output_type": "stream",
     "text": [
      "[0, 8]\n",
      "[0, 8, 1, 8]\n"
     ]
    }
   ],
   "source": [
    "# important: notice that L is a mutable default parameter\n",
    "# (which you should never use, for reasons this example makes clear):\n",
    "def f(n, L=[]):\n",
    "    if n == 0:\n",
    "        return L\n",
    "    else:\n",
    "        L.append(n%10)\n",
    "        return f(n//10, L)\n",
    "print(f(80))\n",
    "print(f(81))"
   ]
  },
  {
   "cell_type": "code",
   "execution_count": 11,
   "id": "9cf406e9",
   "metadata": {},
   "outputs": [
    {
     "name": "stdout",
     "output_type": "stream",
     "text": [
      "[4, 6, 6, 2, 3, 3]\n"
     ]
    }
   ],
   "source": [
    "def ct1(s):\n",
    "    if len(s) <= 1:\n",
    "        return s\n",
    "    else:\n",
    "        i = len(s)//2\n",
    "        if i == 1:\n",
    "            return [s[i]] + ct1(s[i:])\n",
    "        return [s[i]] + ct1(s[i+1:]) + ct1(s[:i])\n",
    "print(ct1([1, 2, 3, 4, 5, 6]))"
   ]
  },
  {
   "cell_type": "code",
   "execution_count": 12,
   "id": "c7598b63",
   "metadata": {},
   "outputs": [
    {
     "name": "stdout",
     "output_type": "stream",
     "text": [
      "113\n"
     ]
    }
   ],
   "source": [
    "def ct2(s, x=8):\n",
    "    if s == '':\n",
    "        return ''\n",
    "    else:\n",
    "        d = s[0]\n",
    "        s = s[::-2]\n",
    "        if d.isdigit() and int(d)%x < 2:\n",
    "            return d + ct2(s[:-1],x-1)\n",
    "        return ct2(s[:-1],x-1) + \"3\"\n",
    "print(ct2('1913156'))"
   ]
  }
 ],
 "metadata": {
  "kernelspec": {
   "display_name": "Python 3 (ipykernel)",
   "language": "python",
   "name": "python3"
  },
  "language_info": {
   "codemirror_mode": {
    "name": "ipython",
    "version": 3
   },
   "file_extension": ".py",
   "mimetype": "text/x-python",
   "name": "python",
   "nbconvert_exporter": "python",
   "pygments_lexer": "ipython3",
   "version": "3.9.7"
  }
 },
 "nbformat": 4,
 "nbformat_minor": 5
}
